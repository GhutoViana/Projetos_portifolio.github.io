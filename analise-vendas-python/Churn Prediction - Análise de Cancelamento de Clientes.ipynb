version https://git-lfs.github.com/spec/v1
oid sha256:4308e312158507324743c16509af6edd3e914215aea930b8b52fa023610ac6be
size 152269752
